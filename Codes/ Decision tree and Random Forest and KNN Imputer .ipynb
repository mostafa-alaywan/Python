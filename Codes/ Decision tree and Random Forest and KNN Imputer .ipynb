{
 "cells": [
  {
   "cell_type": "markdown",
   "metadata": {},
   "source": [
    "# <center> Linear Regression , Decision Tree , Random Forest , Missing Data , KNN imputer"
   ]
  },
  {
   "cell_type": "code",
   "execution_count": null,
   "metadata": {},
   "outputs": [],
   "source": [
    "import pandas as pd \n",
    "import matplotlib.pyplot as plt \n",
    "from plotnine import *\n",
    "%matplotlib inline\n",
    "import seaborn as sn\n",
    "from sklearn.model_selection import train_test_split\n",
    "import statsmodels.api as sm \n",
    "from sklearn import metrics \n",
    "import math\n",
    "from sklearn.tree import DecisionTreeRegressor # since the dependent variable is continous else we use \"DecisionTreeClassifier\"\n",
    "from sklearn.ensemble import RandomForestRegressor  # import the class RandomForestRegressor"
   ]
  },
  {
   "cell_type": "markdown",
   "metadata": {},
   "source": [
    "# Read Data"
   ]
  },
  {
   "cell_type": "code",
   "execution_count": null,
   "metadata": {},
   "outputs": [],
   "source": [
    "commerce = pd.read_csv(\"D:\\data\\Ecommerce.csv\")\n",
    "commerce.head()"
   ]
  },
  {
   "cell_type": "markdown",
   "metadata": {},
   "source": [
    "# Explore Data"
   ]
  },
  {
   "cell_type": "code",
   "execution_count": null,
   "metadata": {},
   "outputs": [],
   "source": [
    "commerce.shape"
   ]
  },
  {
   "cell_type": "code",
   "execution_count": null,
   "metadata": {},
   "outputs": [],
   "source": [
    "commerce.head()"
   ]
  },
  {
   "cell_type": "code",
   "execution_count": null,
   "metadata": {},
   "outputs": [],
   "source": [
    "commerce.columns"
   ]
  },
  {
   "cell_type": "markdown",
   "metadata": {},
   "source": [
    "# Delete First 3 Variables"
   ]
  },
  {
   "cell_type": "code",
   "execution_count": null,
   "metadata": {},
   "outputs": [],
   "source": [
    "commerce = commerce.iloc[:,3:]\n",
    "commerce.head()"
   ]
  },
  {
   "cell_type": "code",
   "execution_count": null,
   "metadata": {},
   "outputs": [],
   "source": [
    "commerce.describe()"
   ]
  },
  {
   "cell_type": "markdown",
   "metadata": {},
   "source": [
    "# Identifying Missing Values"
   ]
  },
  {
   "cell_type": "code",
   "execution_count": null,
   "metadata": {},
   "outputs": [],
   "source": [
    "commerce.isnull().sum()"
   ]
  },
  {
   "cell_type": "code",
   "execution_count": null,
   "metadata": {},
   "outputs": [],
   "source": [
    "commerce.dtypes"
   ]
  },
  {
   "cell_type": "markdown",
   "metadata": {},
   "source": [
    "# Histogram of Yearly Amout Spent"
   ]
  },
  {
   "cell_type": "code",
   "execution_count": null,
   "metadata": {},
   "outputs": [],
   "source": [
    "ggplot(commerce , aes(x ='Yearly Amount Spent'))+geom_histogram(bins=50 , alpha = 0.5 , fill = \"blue\")+theme_minimal()"
   ]
  },
  {
   "cell_type": "markdown",
   "metadata": {},
   "source": [
    "# Correlation Matrix "
   ]
  },
  {
   "cell_type": "code",
   "execution_count": null,
   "metadata": {},
   "outputs": [],
   "source": [
    "sn.pairplot(commerce)"
   ]
  },
  {
   "cell_type": "code",
   "execution_count": null,
   "metadata": {},
   "outputs": [],
   "source": [
    "CorrMatrix = commerce.corr()\n",
    "CorrMatrix"
   ]
  },
  {
   "cell_type": "markdown",
   "metadata": {},
   "source": [
    "# Splitting Data "
   ]
  },
  {
   "cell_type": "code",
   "execution_count": null,
   "metadata": {},
   "outputs": [],
   "source": [
    "X =commerce[['Avg. Session Length', 'Time on App', 'Time on Website','Length of Membership']]\n",
    "\n",
    "Y = commerce['Yearly Amount Spent']\n",
    "\n",
    "X=sm.add_constant(X)"
   ]
  },
  {
   "cell_type": "code",
   "execution_count": null,
   "metadata": {},
   "outputs": [],
   "source": [
    "X_train , X_test , Y_train , Y_test = train_test_split(X , Y , test_size = 0.3, random_state = 1 )"
   ]
  },
  {
   "cell_type": "code",
   "execution_count": null,
   "metadata": {},
   "outputs": [],
   "source": [
    "len(X_train)"
   ]
  },
  {
   "cell_type": "markdown",
   "metadata": {},
   "source": [
    "# Linear Regression "
   ]
  },
  {
   "cell_type": "code",
   "execution_count": null,
   "metadata": {},
   "outputs": [],
   "source": [
    "lm_model =sm.OLS(Y_train , X_train).fit()\n",
    "lm_model.summary()"
   ]
  },
  {
   "cell_type": "markdown",
   "metadata": {},
   "source": [
    "# Linear Regression Evaluation "
   ]
  },
  {
   "cell_type": "code",
   "execution_count": null,
   "metadata": {},
   "outputs": [],
   "source": [
    "Y_test_lm =lm_model.predict(X_test)\n",
    "MSE = metrics.mean_squared_error(Y_test , Y_test_lm)\n",
    "lm_RMSE = math.sqrt(MSE)\n",
    "print(\"The Root Mean Squared Error of Linear Regression is :\" , lm_RMSE)\n",
    "print(\"The Coefficient of Determination : \" , metrics.r2_score(Y_test , Y_test_lm))\n"
   ]
  },
  {
   "cell_type": "markdown",
   "metadata": {},
   "source": [
    "# Delete Column Constant From X"
   ]
  },
  {
   "cell_type": "code",
   "execution_count": null,
   "metadata": {},
   "outputs": [],
   "source": [
    "X_train = X_train.iloc[:,1:]\n",
    "X_train.head()\n",
    "\n",
    "X_test = X_test.iloc[:,1:]\n",
    "X_test.head()"
   ]
  },
  {
   "cell_type": "markdown",
   "metadata": {},
   "source": [
    "# Decision Tree Model "
   ]
  },
  {
   "cell_type": "code",
   "execution_count": null,
   "metadata": {},
   "outputs": [],
   "source": [
    "# decision tree model \n",
    "tree_model = DecisionTreeRegressor(random_state = 42)\n",
    "tree_model.fit(X_train,Y_train)"
   ]
  },
  {
   "cell_type": "markdown",
   "metadata": {},
   "source": [
    "# Decision Tree Evaluation "
   ]
  },
  {
   "cell_type": "code",
   "execution_count": null,
   "metadata": {},
   "outputs": [],
   "source": [
    "Y_test_tree = tree_model.predict(X_test)\n",
    "tree_MSE = metrics.mean_squared_error(Y_test , Y_test_tree)\n",
    "tree_RMSE = math.sqrt(tree_MSE)\n",
    "print(\"The Root Mean Squared Error of Decision Tree is :\" , tree_RMSE)\n",
    "print(\"The Coefficient of Determination : \" , metrics.r2_score(Y_test , Y_test_tree))"
   ]
  },
  {
   "cell_type": "code",
   "execution_count": null,
   "metadata": {},
   "outputs": [],
   "source": [
    "# creat data frame of the two vars : Y_test and it's estimated value Y_test_tree by Decision Tree Regressor \n",
    "data = {'Y_test':Y_test , 'Y_test_tree':Y_test_tree}\n",
    "tree_data=pd.DataFrame(data)"
   ]
  },
  {
   "cell_type": "code",
   "execution_count": null,
   "metadata": {},
   "outputs": [],
   "source": [
    "# scatter plot of Y_test and Y_test_tree \n",
    "T = ggplot(tree_data , aes(Y_test , Y_test_tree))+ geom_point(color = \"red\" , size = 0.3)\n",
    "T+labs(x = 'Yearly Amount Spent' , y = 'Yearly Amount Spent predicted', title='Decision Tree Regressor')+theme_minimal()"
   ]
  },
  {
   "cell_type": "markdown",
   "metadata": {},
   "source": [
    "# Rnadom Forest Model "
   ]
  },
  {
   "cell_type": "code",
   "execution_count": null,
   "metadata": {},
   "outputs": [],
   "source": [
    "rf_model = RandomForestRegressor(n_estimators = 1000, random_state = 42)\n",
    "rf_model.fit(X_train , Y_train)"
   ]
  },
  {
   "cell_type": "markdown",
   "metadata": {},
   "source": [
    "# Random Forest Evaluation "
   ]
  },
  {
   "cell_type": "code",
   "execution_count": null,
   "metadata": {},
   "outputs": [],
   "source": [
    "Y_test_rf = rf_model.predict(X_test)\n",
    "rf_MSE = metrics.mean_squared_error(Y_test , Y_test_rf)\n",
    "rf_RMSE = math.sqrt(rf_MSE)\n",
    "print(\"The Root Mean Squared Error of Rnadom Forest is :\" , rf_RMSE)\n",
    "print(\"The Coefficient of Determination : \" , metrics.r2_score(Y_test , Y_test_rf))"
   ]
  },
  {
   "cell_type": "code",
   "execution_count": null,
   "metadata": {},
   "outputs": [],
   "source": [
    "# creat data frame of the two vars : Y_test and it's estimated value Y_test_rf by random forest classifier \n",
    "data = {'Y_test':Y_test , 'Y_test_rf':Y_test_rf}\n",
    "rf_data=pd.DataFrame(data)"
   ]
  },
  {
   "cell_type": "code",
   "execution_count": null,
   "metadata": {},
   "outputs": [],
   "source": [
    "# scatter plot of Y_test and Y_test_rf \n",
    "p = ggplot(rf_data , aes(Y_test , Y_test_rf))+ geom_point(color = \"red\" , size = 0.3)\n",
    "p+labs(x = 'Yearly Amount Spent' , y = 'Yearly Amount Spent predicted', title='Random Forest Classifier')+theme_minimal()"
   ]
  },
  {
   "cell_type": "markdown",
   "metadata": {},
   "source": [
    "# Read Ecommerce Data With Missing Values "
   ]
  },
  {
   "cell_type": "code",
   "execution_count": null,
   "metadata": {},
   "outputs": [],
   "source": [
    "comm_nan = pd.read_csv(\"D:\\data\\Ecommerce_with_NaN.csv\")"
   ]
  },
  {
   "cell_type": "code",
   "execution_count": null,
   "metadata": {},
   "outputs": [],
   "source": [
    "comm_nan.head()"
   ]
  },
  {
   "cell_type": "markdown",
   "metadata": {},
   "source": [
    "# Identifying Missing Values"
   ]
  },
  {
   "cell_type": "code",
   "execution_count": null,
   "metadata": {},
   "outputs": [],
   "source": [
    "# True = there is a missing values \n",
    "# False  = there is no missing values \n",
    "comm_nan.isna().any()"
   ]
  },
  {
   "cell_type": "code",
   "execution_count": null,
   "metadata": {},
   "outputs": [],
   "source": [
    "# number of missing values in each column : \n",
    "comm_nan.isnull().sum()"
   ]
  },
  {
   "cell_type": "markdown",
   "metadata": {},
   "source": [
    "# Remove Some Variables "
   ]
  },
  {
   "cell_type": "code",
   "execution_count": null,
   "metadata": {},
   "outputs": [],
   "source": [
    "# remove first three columns : 'Email', 'Address' and 'Avatar'\n",
    "comm_nan = comm_nan.drop(['Email', 'Address', 'Avatar'], axis = 1)"
   ]
  },
  {
   "cell_type": "raw",
   "metadata": {},
   "source": []
  },
  {
   "cell_type": "markdown",
   "metadata": {},
   "source": [
    "# KNN Imputer"
   ]
  },
  {
   "cell_type": "markdown",
   "metadata": {},
   "source": [
    "https://www.analyticsvidhya.com/blog/2020/07/knnimputer-a-robust-way-to-impute-missing-values-using-scikit-learn/"
   ]
  },
  {
   "cell_type": "markdown",
   "metadata": {},
   "source": [
    "The KNN Imptuer is a distance-based imputation method and it requires us to normalize our data. Otherwise, the different scales of our data will lead the KNN Imputer to generate biased replacements for the missing values. For simplicity, we will use Scikit-Learn’s MinMaxScaler which will scale our variables to have values between 0 and 1."
   ]
  },
  {
   "cell_type": "code",
   "execution_count": null,
   "metadata": {},
   "outputs": [],
   "source": [
    "from sklearn.preprocessing import MinMaxScaler # import the class MinMaxScaler to normalize our dataset \n",
    "scaler = MinMaxScaler()\n",
    "comm_nan = pd.DataFrame(scaler.fit_transform(comm_nan) , columns = comm_nan.columns)"
   ]
  },
  {
   "cell_type": "code",
   "execution_count": null,
   "metadata": {},
   "outputs": [],
   "source": [
    "comm_nan.head()"
   ]
  },
  {
   "cell_type": "markdown",
   "metadata": {},
   "source": [
    "Now  our dataset has normalized, we can move on to the KNN Imputation. Let’s import it from Scikit-Learn’s Impute package and apply it to our data. In this example, we are setting the parameter ‘n_neighbors’ as 5. So, the missing values will be replaced by the mean value of 5 nearest neighbors measured by Euclidean distance."
   ]
  },
  {
   "cell_type": "code",
   "execution_count": null,
   "metadata": {},
   "outputs": [],
   "source": [
    "from sklearn.impute import KNNImputer \n",
    "imputer = KNNImputer(n_neighbors = 5)\n",
    "comm_nan = pd.DataFrame(imputer.fit_transform(comm_nan) , columns = comm_nan.columns )"
   ]
  },
  {
   "cell_type": "code",
   "execution_count": null,
   "metadata": {},
   "outputs": [],
   "source": [
    "# checking the missing values : \n",
    "comm_nan.isna().any()"
   ]
  },
  {
   "cell_type": "code",
   "execution_count": null,
   "metadata": {},
   "outputs": [],
   "source": [
    "# no missing values \n",
    "comm_nan.isnull().sum()"
   ]
  },
  {
   "cell_type": "code",
   "execution_count": null,
   "metadata": {},
   "outputs": [],
   "source": [
    "comm_nan.head()"
   ]
  },
  {
   "cell_type": "markdown",
   "metadata": {},
   "source": [
    "# Splitting Data "
   ]
  },
  {
   "cell_type": "code",
   "execution_count": null,
   "metadata": {},
   "outputs": [],
   "source": [
    "X =comm_nan[['Avg. Session Length', 'Time on App', 'Time on Website','Length of Membership']]\n",
    "\n",
    "Y = comm_nan['Yearly Amount Spent']\n",
    "\n",
    "X=sm.add_constant(X)"
   ]
  },
  {
   "cell_type": "code",
   "execution_count": null,
   "metadata": {},
   "outputs": [],
   "source": [
    "X_train , X_test , Y_train , Y_test = train_test_split(X , Y , test_size = 0.3 , random_state = 1)"
   ]
  },
  {
   "cell_type": "code",
   "execution_count": null,
   "metadata": {},
   "outputs": [],
   "source": [
    "X_train.shape"
   ]
  },
  {
   "cell_type": "markdown",
   "metadata": {},
   "source": [
    "# Linear Regression With KNN Imputation"
   ]
  },
  {
   "cell_type": "code",
   "execution_count": null,
   "metadata": {},
   "outputs": [],
   "source": [
    "lm_nan = sm.OLS(Y_train , X_train).fit()\n",
    "lm_nan.summary()"
   ]
  },
  {
   "cell_type": "markdown",
   "metadata": {},
   "source": [
    "# Linear Regression With KNN Imputation Evaluation "
   ]
  },
  {
   "cell_type": "code",
   "execution_count": null,
   "metadata": {},
   "outputs": [],
   "source": [
    "Y_test_lm_nan =lm_nan.predict(X_test)\n",
    "lm_nan_MSE = metrics.mean_squared_error(Y_test , Y_test_lm_nan)\n",
    "lm_nan_RMSE = math.sqrt(lm_nan_MSE)\n",
    "print(\"The Root Mean Squared Error of Linear Regression with KNN imputyation is :\" , lm_nan_RMSE)\n",
    "print(\"The Coefficient of Determination with KNN imputyation is: \" , metrics.r2_score(Y_test , Y_test_lm_nan))"
   ]
  },
  {
   "cell_type": "markdown",
   "metadata": {},
   "source": [
    "# Remove Constant Column From X_train and X_test"
   ]
  },
  {
   "cell_type": "code",
   "execution_count": null,
   "metadata": {},
   "outputs": [],
   "source": [
    "X_train = X_train.iloc[: , 1:]\n",
    "X_test = X_test.iloc[: , 1 :]"
   ]
  },
  {
   "cell_type": "markdown",
   "metadata": {},
   "source": [
    "# Decision Tree With KNN Imputation"
   ]
  },
  {
   "cell_type": "code",
   "execution_count": null,
   "metadata": {},
   "outputs": [],
   "source": [
    "tree_nan = DecisionTreeRegressor()\n",
    "tree_nan.fit(X_train , Y_train)"
   ]
  },
  {
   "cell_type": "markdown",
   "metadata": {},
   "source": [
    "# Decision Tree With KNN Imputation Evaluation "
   ]
  },
  {
   "cell_type": "code",
   "execution_count": null,
   "metadata": {},
   "outputs": [],
   "source": [
    "Y_test_tree_nan = tree_nan.predict(X_test)\n",
    "tree_nan_MSE = metrics.mean_squared_error(Y_test , Y_test_tree_nan)\n",
    "tree_nan_RMSE= math.sqrt(tree_nan_MSE)\n",
    "print(\"The Root Mean Squared Error of Decision Tree with KNN imputation is :\" , tree_nan_RMSE)\n",
    "print(\"The Coefficient of Determination of Decision Tree with KNN imputation is:\",metrics.r2_score(Y_test,Y_test_tree_nan))"
   ]
  },
  {
   "cell_type": "markdown",
   "metadata": {},
   "source": [
    "# Random Forest With KNN Imputation "
   ]
  },
  {
   "cell_type": "code",
   "execution_count": null,
   "metadata": {},
   "outputs": [],
   "source": [
    "rf_nan = RandomForestRegressor(n_estimators = 1000, random_state = 42)\n",
    "rf_nan.fit(X_train , Y_train)"
   ]
  },
  {
   "cell_type": "markdown",
   "metadata": {},
   "source": [
    "# Random Forest With KNN Imputation Evaluation "
   ]
  },
  {
   "cell_type": "code",
   "execution_count": null,
   "metadata": {},
   "outputs": [],
   "source": [
    "Y_test_rf_nan = rf_nan.predict(X_test)\n",
    "rf_nan_MSE = metrics.mean_squared_error(Y_test , Y_test_rf_nan)\n",
    "rf_nan_RMSE = math.sqrt(rf_nan_MSE)\n",
    "print(\"The Root Mean Squared Error of Rnadom Forest with KNN imputation is :\" , rf_nan_RMSE)\n",
    "print(\"The Coefficient of Determination with KNN imputation is : \" , metrics.r2_score(Y_test , Y_test_rf_nan))"
   ]
  },
  {
   "cell_type": "markdown",
   "metadata": {},
   "source": [
    "# Read Ecommerce Data With Missing Values"
   ]
  },
  {
   "cell_type": "code",
   "execution_count": null,
   "metadata": {},
   "outputs": [],
   "source": [
    "commerce_nan = comm_nan = pd.read_csv(\"D:\\data\\Ecommerce_with_NaN.csv\")"
   ]
  },
  {
   "cell_type": "markdown",
   "metadata": {},
   "source": [
    "# Identifying Missing Values"
   ]
  },
  {
   "cell_type": "code",
   "execution_count": null,
   "metadata": {},
   "outputs": [],
   "source": [
    "commerce_nan.isna().any()"
   ]
  },
  {
   "cell_type": "code",
   "execution_count": null,
   "metadata": {},
   "outputs": [],
   "source": [
    "commerce_nan.isnull().sum()"
   ]
  },
  {
   "cell_type": "markdown",
   "metadata": {},
   "source": [
    "# Remove The Missing Values Cells"
   ]
  },
  {
   "cell_type": "code",
   "execution_count": null,
   "metadata": {},
   "outputs": [],
   "source": [
    "commerce_nan = commerce_nan.dropna()"
   ]
  },
  {
   "cell_type": "code",
   "execution_count": null,
   "metadata": {},
   "outputs": [],
   "source": [
    "commerce_nan.shape"
   ]
  },
  {
   "cell_type": "markdown",
   "metadata": {},
   "source": [
    "# Remove First 3 Columns"
   ]
  },
  {
   "cell_type": "code",
   "execution_count": null,
   "metadata": {},
   "outputs": [],
   "source": [
    "commerce_nan = commerce_nan.drop(['Email', 'Address', 'Avatar'] , axis = 1)"
   ]
  },
  {
   "cell_type": "code",
   "execution_count": null,
   "metadata": {},
   "outputs": [],
   "source": [
    "commerce_nan.columns"
   ]
  },
  {
   "cell_type": "markdown",
   "metadata": {},
   "source": [
    "# Splitting Data "
   ]
  },
  {
   "cell_type": "code",
   "execution_count": null,
   "metadata": {},
   "outputs": [],
   "source": [
    "X = commerce_nan[['Avg. Session Length', 'Time on App', 'Time on Website','Length of Membership']]\n",
    "\n",
    "Y = commerce_nan['Yearly Amount Spent']\n",
    "\n",
    "X = sm.add_constant(X)"
   ]
  },
  {
   "cell_type": "code",
   "execution_count": null,
   "metadata": {},
   "outputs": [],
   "source": [
    "X.head()"
   ]
  },
  {
   "cell_type": "code",
   "execution_count": null,
   "metadata": {},
   "outputs": [],
   "source": [
    "X_train , X_test , Y_train , Y_test = train_test_split(X , Y , test_size = 0.3 , random_state = 1)"
   ]
  },
  {
   "cell_type": "code",
   "execution_count": null,
   "metadata": {},
   "outputs": [],
   "source": [
    "X_train.shape"
   ]
  },
  {
   "cell_type": "markdown",
   "metadata": {},
   "source": [
    "# Linear Regression With Remove Missing Value Cells "
   ]
  },
  {
   "cell_type": "code",
   "execution_count": null,
   "metadata": {},
   "outputs": [],
   "source": [
    "lm_nan_remove = sm.OLS(Y_train , X_train).fit()\n",
    "lm_nan_remove.summary()"
   ]
  },
  {
   "cell_type": "markdown",
   "metadata": {},
   "source": [
    "# Linear Regression With Remove Missing Value Cells Evaluation"
   ]
  },
  {
   "cell_type": "code",
   "execution_count": null,
   "metadata": {},
   "outputs": [],
   "source": [
    "Y_test_lm_nan_remove =lm_nan_remove.predict(X_test)\n",
    "lm_nan_remove_MSE = metrics.mean_squared_error(Y_test , Y_test_lm_nan_remove)\n",
    "lm_nan_remove_RMSE = math.sqrt(lm_nan_remove_MSE)\n",
    "print(\"The Root Mean Squared Error of Linear Regression with Missing Value Cells is :\" , lm_nan_remove_RMSE)\n",
    "print(\"The Coefficient of Determination with with Missing Value Cells is: \",metrics.r2_score(Y_test , Y_test_lm_nan_remove))"
   ]
  },
  {
   "cell_type": "markdown",
   "metadata": {},
   "source": [
    "# Remove Constant Column From X_train and X_test"
   ]
  },
  {
   "cell_type": "code",
   "execution_count": null,
   "metadata": {},
   "outputs": [],
   "source": [
    "X_train = X_train.iloc[: , 1:]\n",
    "X_test = X_test.iloc[: , 1 :]"
   ]
  },
  {
   "cell_type": "markdown",
   "metadata": {},
   "source": [
    "# Decision Tree With Remove Missing Value Cells"
   ]
  },
  {
   "cell_type": "code",
   "execution_count": null,
   "metadata": {},
   "outputs": [],
   "source": [
    "tree_nan_remove = DecisionTreeRegressor()\n",
    "tree_nan_remove.fit(X_train , Y_train)"
   ]
  },
  {
   "cell_type": "markdown",
   "metadata": {},
   "source": [
    "# Decision Tree With Remove Missing Value Cells Evaluation"
   ]
  },
  {
   "cell_type": "code",
   "execution_count": null,
   "metadata": {},
   "outputs": [],
   "source": [
    "Y_test_tree_nan_remove = tree_nan_remove.predict(X_test)\n",
    "tree_nan_remove_MSE = metrics.mean_squared_error(Y_test , Y_test_tree_nan_remove)\n",
    "tree_nan_remove_RMSE= math.sqrt(tree_nan_remove_MSE)\n",
    "print(\"The Root Mean Squared Error of Decision Tree after removing empty cells is :\" , tree_nan_remove_RMSE)\n",
    "print(\"The Coefficient of Determination of Decision Tree after removing empty cells is:\",metrics.r2_score(Y_test ,Y_test_tree_nan_remove))"
   ]
  },
  {
   "cell_type": "markdown",
   "metadata": {},
   "source": [
    "# Random Forest With Remove Missing Value Cells"
   ]
  },
  {
   "cell_type": "code",
   "execution_count": null,
   "metadata": {},
   "outputs": [],
   "source": [
    "rf_nan_remove = RandomForestRegressor(n_estimators = 1000, random_state = 42)\n",
    "rf_nan_remove.fit(X_train , Y_train)"
   ]
  },
  {
   "cell_type": "code",
   "execution_count": null,
   "metadata": {},
   "outputs": [],
   "source": []
  },
  {
   "cell_type": "code",
   "execution_count": null,
   "metadata": {},
   "outputs": [],
   "source": [
    "Y_test_rf_nan_remove = rf_nan_remove.predict(X_test)\n",
    "rf_nan_remove_MSE = metrics.mean_squared_error(Y_test , Y_test_rf_nan_remove)\n",
    "rf_nan_remove_RMSE = math.sqrt(rf_nan_remove_MSE)\n",
    "print(\"The Root Mean Squared Error of Rnadom Forest after removing the missing values is :\" , rf_nan_RMSE)\n",
    "print(\"The Coefficient of Determination after removing the missing values is : \",metrics.r2_score(Y_test,Y_test_rf_nan_remove))"
   ]
  }
 ],
 "metadata": {
  "kernelspec": {
   "display_name": "Python 3",
   "language": "python",
   "name": "python3"
  },
  "language_info": {
   "codemirror_mode": {
    "name": "ipython",
    "version": 3
   },
   "file_extension": ".py",
   "mimetype": "text/x-python",
   "name": "python",
   "nbconvert_exporter": "python",
   "pygments_lexer": "ipython3",
   "version": "3.8.5"
  }
 },
 "nbformat": 4,
 "nbformat_minor": 4
}
